{
  "nbformat": 4,
  "nbformat_minor": 0,
  "metadata": {
    "colab": {
      "provenance": [],
      "authorship_tag": "ABX9TyMRzHNhqtOmS5rSr1PFrrTt",
      "include_colab_link": true
    },
    "kernelspec": {
      "name": "python3",
      "display_name": "Python 3"
    },
    "language_info": {
      "name": "python"
    },
    "widgets": {
      "application/vnd.jupyter.widget-state+json": {
        "dc6fefb3233f472bb2d12079e6997e2f": {
          "model_module": "@jupyter-widgets/controls",
          "model_name": "ImageModel",
          "model_module_version": "1.5.0",
          "state": {
            "_dom_classes": [],
            "_model_module": "@jupyter-widgets/controls",
            "_model_module_version": "1.5.0",
            "_model_name": "ImageModel",
            "_view_count": null,
            "_view_module": "@jupyter-widgets/controls",
            "_view_module_version": "1.5.0",
            "_view_name": "ImageView",
            "format": "jpg",
            "height": "200",
            "layout": "IPY_MODEL_d6d2fabeefd04365827c5d7cd573e776",
            "width": "200"
          }
        },
        "d6d2fabeefd04365827c5d7cd573e776": {
          "model_module": "@jupyter-widgets/base",
          "model_name": "LayoutModel",
          "model_module_version": "1.2.0",
          "state": {
            "_model_module": "@jupyter-widgets/base",
            "_model_module_version": "1.2.0",
            "_model_name": "LayoutModel",
            "_view_count": null,
            "_view_module": "@jupyter-widgets/base",
            "_view_module_version": "1.2.0",
            "_view_name": "LayoutView",
            "align_content": null,
            "align_items": null,
            "align_self": null,
            "border": null,
            "bottom": null,
            "display": null,
            "flex": null,
            "flex_flow": null,
            "grid_area": null,
            "grid_auto_columns": null,
            "grid_auto_flow": null,
            "grid_auto_rows": null,
            "grid_column": null,
            "grid_gap": null,
            "grid_row": null,
            "grid_template_areas": null,
            "grid_template_columns": null,
            "grid_template_rows": null,
            "height": null,
            "justify_content": null,
            "justify_items": null,
            "left": null,
            "margin": null,
            "max_height": null,
            "max_width": null,
            "min_height": null,
            "min_width": null,
            "object_fit": null,
            "object_position": null,
            "order": null,
            "overflow": null,
            "overflow_x": null,
            "overflow_y": null,
            "padding": null,
            "right": null,
            "top": null,
            "visibility": null,
            "width": null
          }
        },
        "f253e87b47dc4b339dc3dbe1a7213794": {
          "model_module": "@jupyter-widgets/controls",
          "model_name": "TextModel",
          "model_module_version": "1.5.0",
          "state": {
            "_dom_classes": [],
            "_model_module": "@jupyter-widgets/controls",
            "_model_module_version": "1.5.0",
            "_model_name": "TextModel",
            "_view_count": null,
            "_view_module": "@jupyter-widgets/controls",
            "_view_module_version": "1.5.0",
            "_view_name": "TextView",
            "continuous_update": true,
            "description": "Você:",
            "description_tooltip": null,
            "disabled": false,
            "layout": "IPY_MODEL_c8d5b3ac7878445492221f25f975feb9",
            "placeholder": "Digite sua mensagem aqui...",
            "style": "IPY_MODEL_efbca205201e4b5bae86c745229904d0",
            "value": "Quais os 10 países mais populosos do mundo?"
          }
        },
        "c8d5b3ac7878445492221f25f975feb9": {
          "model_module": "@jupyter-widgets/base",
          "model_name": "LayoutModel",
          "model_module_version": "1.2.0",
          "state": {
            "_model_module": "@jupyter-widgets/base",
            "_model_module_version": "1.2.0",
            "_model_name": "LayoutModel",
            "_view_count": null,
            "_view_module": "@jupyter-widgets/base",
            "_view_module_version": "1.2.0",
            "_view_name": "LayoutView",
            "align_content": null,
            "align_items": null,
            "align_self": null,
            "border": null,
            "bottom": null,
            "display": null,
            "flex": null,
            "flex_flow": null,
            "grid_area": null,
            "grid_auto_columns": null,
            "grid_auto_flow": null,
            "grid_auto_rows": null,
            "grid_column": null,
            "grid_gap": null,
            "grid_row": null,
            "grid_template_areas": null,
            "grid_template_columns": null,
            "grid_template_rows": null,
            "height": null,
            "justify_content": null,
            "justify_items": null,
            "left": null,
            "margin": null,
            "max_height": null,
            "max_width": null,
            "min_height": null,
            "min_width": null,
            "object_fit": null,
            "object_position": null,
            "order": null,
            "overflow": null,
            "overflow_x": null,
            "overflow_y": null,
            "padding": null,
            "right": null,
            "top": null,
            "visibility": null,
            "width": null
          }
        },
        "efbca205201e4b5bae86c745229904d0": {
          "model_module": "@jupyter-widgets/controls",
          "model_name": "DescriptionStyleModel",
          "model_module_version": "1.5.0",
          "state": {
            "_model_module": "@jupyter-widgets/controls",
            "_model_module_version": "1.5.0",
            "_model_name": "DescriptionStyleModel",
            "_view_count": null,
            "_view_module": "@jupyter-widgets/base",
            "_view_module_version": "1.2.0",
            "_view_name": "StyleView",
            "description_width": ""
          }
        },
        "912c4811b5e442b1a6240955d6b88f2b": {
          "model_module": "@jupyter-widgets/controls",
          "model_name": "ButtonModel",
          "model_module_version": "1.5.0",
          "state": {
            "_dom_classes": [],
            "_model_module": "@jupyter-widgets/controls",
            "_model_module_version": "1.5.0",
            "_model_name": "ButtonModel",
            "_view_count": null,
            "_view_module": "@jupyter-widgets/controls",
            "_view_module_version": "1.5.0",
            "_view_name": "ButtonView",
            "button_style": "success",
            "description": "Enviar",
            "disabled": false,
            "icon": "check",
            "layout": "IPY_MODEL_095cb1f40844489aa5531353adf4162d",
            "style": "IPY_MODEL_0d8229965ac548a7bb239e6853fa5f00",
            "tooltip": ""
          }
        },
        "095cb1f40844489aa5531353adf4162d": {
          "model_module": "@jupyter-widgets/base",
          "model_name": "LayoutModel",
          "model_module_version": "1.2.0",
          "state": {
            "_model_module": "@jupyter-widgets/base",
            "_model_module_version": "1.2.0",
            "_model_name": "LayoutModel",
            "_view_count": null,
            "_view_module": "@jupyter-widgets/base",
            "_view_module_version": "1.2.0",
            "_view_name": "LayoutView",
            "align_content": null,
            "align_items": null,
            "align_self": null,
            "border": null,
            "bottom": null,
            "display": null,
            "flex": null,
            "flex_flow": null,
            "grid_area": null,
            "grid_auto_columns": null,
            "grid_auto_flow": null,
            "grid_auto_rows": null,
            "grid_column": null,
            "grid_gap": null,
            "grid_row": null,
            "grid_template_areas": null,
            "grid_template_columns": null,
            "grid_template_rows": null,
            "height": null,
            "justify_content": null,
            "justify_items": null,
            "left": null,
            "margin": null,
            "max_height": null,
            "max_width": null,
            "min_height": null,
            "min_width": null,
            "object_fit": null,
            "object_position": null,
            "order": null,
            "overflow": null,
            "overflow_x": null,
            "overflow_y": null,
            "padding": null,
            "right": null,
            "top": null,
            "visibility": null,
            "width": null
          }
        },
        "0d8229965ac548a7bb239e6853fa5f00": {
          "model_module": "@jupyter-widgets/controls",
          "model_name": "ButtonStyleModel",
          "model_module_version": "1.5.0",
          "state": {
            "_model_module": "@jupyter-widgets/controls",
            "_model_module_version": "1.5.0",
            "_model_name": "ButtonStyleModel",
            "_view_count": null,
            "_view_module": "@jupyter-widgets/base",
            "_view_module_version": "1.2.0",
            "_view_name": "StyleView",
            "button_color": "#E59400",
            "font_weight": ""
          }
        },
        "90093045c3e748d9acaec913b6723bee": {
          "model_module": "@jupyter-widgets/output",
          "model_name": "OutputModel",
          "model_module_version": "1.0.0",
          "state": {
            "_dom_classes": [],
            "_model_module": "@jupyter-widgets/output",
            "_model_module_version": "1.0.0",
            "_model_name": "OutputModel",
            "_view_count": null,
            "_view_module": "@jupyter-widgets/output",
            "_view_module_version": "1.0.0",
            "_view_name": "OutputView",
            "layout": "IPY_MODEL_19a46a31dcf74755a4aa862235177d4d",
            "msg_id": "",
            "outputs": []
          }
        },
        "19a46a31dcf74755a4aa862235177d4d": {
          "model_module": "@jupyter-widgets/base",
          "model_name": "LayoutModel",
          "model_module_version": "1.2.0",
          "state": {
            "_model_module": "@jupyter-widgets/base",
            "_model_module_version": "1.2.0",
            "_model_name": "LayoutModel",
            "_view_count": null,
            "_view_module": "@jupyter-widgets/base",
            "_view_module_version": "1.2.0",
            "_view_name": "LayoutView",
            "align_content": null,
            "align_items": null,
            "align_self": null,
            "border": null,
            "bottom": null,
            "display": null,
            "flex": null,
            "flex_flow": null,
            "grid_area": null,
            "grid_auto_columns": null,
            "grid_auto_flow": null,
            "grid_auto_rows": null,
            "grid_column": null,
            "grid_gap": null,
            "grid_row": null,
            "grid_template_areas": null,
            "grid_template_columns": null,
            "grid_template_rows": null,
            "height": null,
            "justify_content": null,
            "justify_items": null,
            "left": null,
            "margin": null,
            "max_height": null,
            "max_width": null,
            "min_height": null,
            "min_width": null,
            "object_fit": null,
            "object_position": null,
            "order": null,
            "overflow": null,
            "overflow_x": null,
            "overflow_y": null,
            "padding": null,
            "right": null,
            "top": null,
            "visibility": null,
            "width": null
          }
        }
      }
    }
  },
  "cells": [
    {
      "cell_type": "markdown",
      "metadata": {
        "id": "view-in-github",
        "colab_type": "text"
      },
      "source": [
        "<a href=\"https://colab.research.google.com/github/IAmCristiano/GokuAI/blob/main/GokuIA.ipynb\" target=\"_parent\"><img src=\"https://colab.research.google.com/assets/colab-badge.svg\" alt=\"Open In Colab\"/></a>"
      ]
    },
    {
      "cell_type": "code",
      "execution_count": null,
      "metadata": {
        "id": "Yj5Vwj_9LFt2"
      },
      "outputs": [],
      "source": [
        "!pip install -q -U google-generativeai"
      ]
    },
    {
      "cell_type": "code",
      "source": [
        "from IPython.display import display\n",
        "from ipywidgets import widgets\n",
        "\n",
        "import google.generativeai as genai\n",
        "from google.colab import userdata\n",
        "api_key = userdata.get('SECRET_KEY')\n",
        "genai.configure(api_key=api_key)"
      ],
      "metadata": {
        "id": "LLyd_KpxRR2Z"
      },
      "execution_count": null,
      "outputs": []
    },
    {
      "cell_type": "code",
      "source": [
        "generation_config = {\n",
        "    \"candidate_count\": 1,\n",
        "    \"temperature\": 0.9,\n",
        "}"
      ],
      "metadata": {
        "id": "CJz1yP5sRVHX"
      },
      "execution_count": null,
      "outputs": []
    },
    {
      "cell_type": "code",
      "source": [
        "safety_settings = {\n",
        "    'HATE': 'BLOCK_MEDIUM_AND_ABOVE',\n",
        "    'HARASSMENT': 'BLOCK_MEDIUM_AND_ABOVE',\n",
        "    'SEXUAL': 'BLOCK_LOW_AND_ABOVE',\n",
        "    'DANGEROUS': 'BLOCK_MEDIUM_AND_ABOVE'\n",
        "}"
      ],
      "metadata": {
        "id": "iI6uq6FmRYOS"
      },
      "execution_count": null,
      "outputs": []
    },
    {
      "cell_type": "code",
      "source": [
        "model = genai.GenerativeModel(model_name='gemini-1.5-flash',\n",
        "                                  generation_config=generation_config,\n",
        "                                  safety_settings=safety_settings,)"
      ],
      "metadata": {
        "id": "s5I5yOR-ReYk"
      },
      "execution_count": null,
      "outputs": []
    },
    {
      "cell_type": "code",
      "source": [
        "def goku_response(chat, prompt):\n",
        "  # Ajustando o prompt para a personalidade do Goku\n",
        "  prompt = f\"Você é o Goku, protagonista de Dragon Ball. Responda de forma entusiasmada, amigável e coerente com a história e com o Goku. Você está falando com uma criança. Se perguntar algo de estudo ou lição de casa, responda sempre corretamente, mas tente incluir referências de Dragon Ball para manter o interesse da criança. Se perguntar algum conteúdo sensível, racista, sexual, homofóbico ou de discurso de ódio, desaprove e não converse sobre isso. {prompt}\"\n",
        "\n",
        "  try:\n",
        "    response = chat.send_message(prompt)\n",
        "    return response.text\n",
        "  except Exception as e:\n",
        "    return \"Ei, não é legal falar assim! Vamos conversar sobre outra coisa!\"\n",
        "\n",
        "chat = model.start_chat(history=[])\n",
        "\n",
        "print(\"Oi, eu sou o Goku! Vamos conversar?\")\n",
        "\n",
        "import ipywidgets as widgets\n",
        "from IPython.display import display\n",
        "import requests\n",
        "from io import BytesIO\n",
        "\n",
        "response = requests.get('https://i0.wp.com/beneaththetangles.com/wp-content/uploads/2016/10/tumblr_ljrzw8nmrg1qdkdwfo1_500.png?resize=480%2C356&ssl=1') # Substitua pela URL da imagem desejada\n",
        "image = widgets.Image(\n",
        "    value=response.content,\n",
        "    format='jpg',\n",
        "    width=200,\n",
        "    height=200\n",
        ")\n",
        "\n",
        "text_input = widgets.Text(\n",
        "    placeholder='Digite sua mensagem aqui...',\n",
        "    description='Você:',\n",
        "    disabled=False\n",
        ")\n",
        "\n",
        "submit_button = widgets.Button(\n",
        "    description='Enviar',\n",
        "    disabled=False,\n",
        "    button_style='success',\n",
        "    icon='check',\n",
        ")\n",
        "\n",
        "submit_button.style.button_color = '#E59400'\n",
        "\n",
        "output = widgets.Output()\n",
        "\n",
        "def on_submit(b):\n",
        "    with output:\n",
        "        print(f\"Você: {text_input.value}\")\n",
        "        resposta_goku = goku_response(chat, text_input.value)\n",
        "        print(f\"Goku: {resposta_goku}\\n\")\n",
        "    text_input.value = ''\n",
        "\n",
        "text_input.on_submit(on_submit)\n",
        "submit_button.on_click(on_submit)\n",
        "\n",
        "display(image, text_input, submit_button, output)"
      ],
      "metadata": {
        "colab": {
          "base_uri": "https://localhost:8080/",
          "height": 255,
          "referenced_widgets": [
            "dc6fefb3233f472bb2d12079e6997e2f",
            "d6d2fabeefd04365827c5d7cd573e776",
            "f253e87b47dc4b339dc3dbe1a7213794",
            "c8d5b3ac7878445492221f25f975feb9",
            "efbca205201e4b5bae86c745229904d0",
            "912c4811b5e442b1a6240955d6b88f2b",
            "095cb1f40844489aa5531353adf4162d",
            "0d8229965ac548a7bb239e6853fa5f00",
            "90093045c3e748d9acaec913b6723bee",
            "19a46a31dcf74755a4aa862235177d4d"
          ]
        },
        "id": "o3MLFpfgoI_D",
        "outputId": "330f6bde-ecc5-4c9c-b5ae-bebb64f4185a"
      },
      "execution_count": null,
      "outputs": [
        {
          "output_type": "stream",
          "name": "stdout",
          "text": [
            "Oi, eu sou o Goku! Vamos conversar?\n"
          ]
        },
        {
          "output_type": "display_data",
          "data": {
            "text/plain": [
              "Image(value=b'\\x89PNG\\r\\n\\x1a\\n\\x00\\x00\\x00\\rIHDR\\x00\\x00\\x01\\xe0\\x00\\x00\\x01d\\x08\\x03\\x00\\x00\\x00\\xcf+\\x18i\\x…"
            ],
            "application/vnd.jupyter.widget-view+json": {
              "version_major": 2,
              "version_minor": 0,
              "model_id": "dc6fefb3233f472bb2d12079e6997e2f"
            }
          },
          "metadata": {}
        },
        {
          "output_type": "display_data",
          "data": {
            "text/plain": [
              "Text(value='', description='Você:', placeholder='Digite sua mensagem aqui...')"
            ],
            "application/vnd.jupyter.widget-view+json": {
              "version_major": 2,
              "version_minor": 0,
              "model_id": "f253e87b47dc4b339dc3dbe1a7213794"
            }
          },
          "metadata": {}
        },
        {
          "output_type": "display_data",
          "data": {
            "text/plain": [
              "Button(button_style='success', description='Enviar', icon='check', style=ButtonStyle(button_color='#E59400'))"
            ],
            "application/vnd.jupyter.widget-view+json": {
              "version_major": 2,
              "version_minor": 0,
              "model_id": "912c4811b5e442b1a6240955d6b88f2b"
            }
          },
          "metadata": {}
        },
        {
          "output_type": "display_data",
          "data": {
            "text/plain": [
              "Output()"
            ],
            "application/vnd.jupyter.widget-view+json": {
              "version_major": 2,
              "version_minor": 0,
              "model_id": "90093045c3e748d9acaec913b6723bee"
            }
          },
          "metadata": {}
        }
      ]
    }
  ]
}
